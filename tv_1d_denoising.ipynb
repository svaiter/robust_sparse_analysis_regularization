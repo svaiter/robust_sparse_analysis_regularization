{
 "metadata": {
  "name": "tv_1d_denoising"
 }, 
 "nbformat": 2, 
 "worksheets": [
  {
   "cells": [
    {
     "cell_type": "markdown", 
     "source": [
      "Criterions values for Total Variation 1D denoising"
     ]
    }, 
    {
     "cell_type": "code", 
     "collapsed": false, 
     "input": [
      "from __future__ import division", 
      "import numpy as np", 
      "", 
      "from rsar.criterions import criterions_dict", 
      "from rsar.operators import finite_diff_1d"
     ], 
     "language": "python", 
     "outputs": [], 
     "prompt_number": 1
    }, 
    {
     "cell_type": "code", 
     "collapsed": true, 
     "input": [
      "n = 16", 
      "n0 = n // 4", 
      "D = finite_diff_1d(n)", 
      "Phi = eye(n)"
     ], 
     "language": "python", 
     "outputs": [], 
     "prompt_number": 2
    }, 
    {
     "cell_type": "code", 
     "collapsed": true, 
     "input": [
      "x = np.zeros((n,1))", 
      "x[n//2:,:] = 1", 
      "x[3*n//4:,:] = 2", 
      "crit = criterions_dict(D, Phi, x)"
     ], 
     "language": "python", 
     "outputs": [], 
     "prompt_number": 3
    }, 
    {
     "cell_type": "code", 
     "collapsed": false, 
     "input": [
      "print crit['IC']", 
      "print crit['IC_noker']", 
      "print crit['wRC']"
     ], 
     "language": "python", 
     "outputs": [
      {
       "output_type": "stream", 
       "stream": "stdout", 
       "text": [
        "1.0", 
        "1.0", 
        "1.0"
       ]
      }
     ], 
     "prompt_number": 4
    }, 
    {
     "cell_type": "code", 
     "collapsed": true, 
     "input": [], 
     "language": "python", 
     "outputs": []
    }
   ]
  }
 ]
}