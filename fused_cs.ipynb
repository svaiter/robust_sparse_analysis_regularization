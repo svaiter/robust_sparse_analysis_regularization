{
 "metadata": {
  "name": "fused_cs"
 }, 
 "nbformat": 2, 
 "worksheets": [
  {
   "cells": [
    {
     "cell_type": "markdown", 
     "source": [
      "# Criterions values for Fused CS #"
     ]
    }, 
    {
     "cell_type": "code", 
     "collapsed": true, 
     "input": [
      "from __future__ import division", 
      "import numpy as np", 
      "", 
      "from rsar.criterions import criterions_dict, ic", 
      "from rsar.operators import fused_lasso_dict"
     ], 
     "language": "python", 
     "outputs": [], 
     "prompt_number": 1
    }, 
    {
     "cell_type": "code", 
     "collapsed": true, 
     "input": [
      "n = 128", 
      "D = fused_lasso_dict(n, eps=50/n)"
     ], 
     "language": "python", 
     "outputs": [], 
     "prompt_number": 2
    }, 
    {
     "cell_type": "markdown", 
     "source": [
      "Function to generate a double step signal"
     ]
    }, 
    {
     "cell_type": "code", 
     "collapsed": true, 
     "input": [
      "def sig(n,eta=0.2,rho=0.25):", 
      "    mu = 0.5 - eta - rho", 
      "    x = zeros((n,1))", 
      "    x[floor(mu*n):floor(n*(mu+eta)),:] = 1", 
      "    x[floor(n*(0.5 + rho)):floor(n*(0.5 + rho + eta))] = -1", 
      "    return x"
     ], 
     "language": "python", 
     "outputs": [], 
     "prompt_number": 3
    }, 
    {
     "cell_type": "markdown", 
     "source": [
      "Simple example for $\\Phi = \\text{Id}$"
     ]
    }, 
    {
     "cell_type": "code", 
     "collapsed": false, 
     "input": [
      "Phi = eye(n)", 
      "", 
      "x0 = sig(n,eta=0.1,rho=0.2)", 
      "figure(1)", 
      "subplot(211)", 
      "title(r\"$x_0$\")", 
      "plot(x0)", 
      "subplot(212)", 
      "title(r\"$D^* x_0$\")", 
      "plot(dot(D.T,x0))", 
      "", 
      "crit = criterions_dict(D, Phi, x0)", 
      "print \"IC       = \" + str(crit['IC'])", 
      "print \"IC_noker = \" + str(crit['IC_noker'])", 
      "print \"wRC      = \" + str(crit['wRC'])"
     ], 
     "language": "python", 
     "outputs": [
      {
       "output_type": "stream", 
       "stream": "stdout", 
       "text": [
        "Oh !", 
        "IC       = 0.846153846154"
       ]
      }, 
      {
       "output_type": "stream", 
       "stream": "stdout", 
       "text": [
        "", 
        "IC_noker = 0.846153846154", 
        "wRC      = 3.52403846154"
       ]
      }, 
      {
       "output_type": "display_data", 
       "png": "[encoded data removed]"
      }
     ], 
     "prompt_number": 4
    }, 
    {
     "cell_type": "markdown", 
     "source": [
      "**IC** average versus redudancy"
     ]
    }, 
    {
     "cell_type": "code", 
     "collapsed": true, 
     "input": [
      "def dummy(c):", 
      "    n = 128", 
      "    (eps, ratio, eta, trial) = c", 
      "    D = fused_lasso_dict(n, eps=eps)", 
      "    x = sig(n,eta,rho=0.1)", 
      "    q = round(ratio*n)", 
      "    Phi = randn(q,n)", 
      "    return ic(D, Phi, x)", 
      "    ", 
      "def grid_ratio_eta(n, eps_candidates, ratio_candidates, eta_candidates, trials):", 
      "    import itertools", 
      "    import multiprocessing as mp", 
      "    pos = itertools.product(eps_candidates, ratio_candidates, eta_candidates, range(trials))", 
      "    pool = mp.Pool()", 
      "    res_tmp = pool.map_async(dummy, pos)", 
      "    return res_tmp"
     ], 
     "language": "python", 
     "outputs": [], 
     "prompt_number": 5
    }, 
    {
     "cell_type": "code", 
     "collapsed": true, 
     "input": [
      "grid_size = 20", 
      "trials_per_settings = 100", 
      "eta_candidates = linspace(0.025, 0.2, num=grid_size)", 
      "ratio_candidates = linspace(0.5, 1, num=grid_size)", 
      "eps_candidates = map(lambda s: s * (1/n), [1, 50, 100, 1000])"
     ], 
     "language": "python", 
     "outputs": [], 
     "prompt_number": 6
    }, 
    {
     "cell_type": "code", 
     "collapsed": true, 
     "input": [
      "if False:", 
      "    restmp=grid_ratio_eta(n, eps_candidates, ratio_candidates, eta_candidates, trials_per_settings).get()", 
      "    restarr = np.asarray(restmp)", 
      "    save('fused_final',restarr)", 
      "else:", 
      "    restarr = np.load('fused_final.npy')"
     ], 
     "language": "python", 
     "outputs": [], 
     "prompt_number": "*"
    }, 
    {
     "cell_type": "code", 
     "collapsed": true, 
     "input": [
      "res = np.swapaxes(restarr.reshape((4,20,20,100)), 0,3)"
     ], 
     "language": "python", 
     "outputs": []
    }, 
    {
     "cell_type": "code", 
     "collapsed": true, 
     "input": [
      "res_0 = np.mean(res[:,:,:,1], axis=0).T", 
      "m = amin(res_0)", 
      "M = amax(res_0)", 
      "", 
      "fig = figure()", 
      "ax = fig.add_subplot(111)", 
      "cax = ax.imshow(res_0, extent=[ratio_candidates.min(), ratio_candidates.max(), ", 
      "                               eta_candidates.min(), eta_candidates.max()],", 
      "                origin='lower',", 
      "                aspect=3)", 
      "#cax.set_cmap('spectral')", 
      "cbar = fig.colorbar(cax, ticks=[m, 1, M])", 
      "xticks()", 
      "show()"
     ], 
     "language": "python", 
     "outputs": []
    }, 
    {
     "cell_type": "code", 
     "collapsed": true, 
     "input": [
      "res_0 = np.mean(res[:,:,:,1], axis=0).T", 
      "res_0 = np.mean(res[:,:,:,1], axis=0).T < 1", 
      "m = amin(res_0)", 
      "M = amax(res_0)", 
      "", 
      "fig = figure()", 
      "ax = fig.add_subplot(111)", 
      "cax = ax.imshow(res_0, extent=[ratio_candidates.min(), ratio_candidates.max(), ", 
      "                               eta_candidates.min(), eta_candidates.max()],", 
      "                origin='lower',", 
      "                aspect=3)", 
      "cax.set_cmap('binary')", 
      "cbar = fig.colorbar(cax, ticks=[m, 1, M])", 
      "xticks()", 
      "show()"
     ], 
     "language": "python", 
     "outputs": []
    }, 
    {
     "cell_type": "code", 
     "collapsed": true, 
     "input": [
      "res_0 = np.mean(res[:,:,:,1], axis=0).T", 
      "res_0 = np.mean(res[:,:,:,1], axis=0).T < 1", 
      "res_0 = np.mean(res[:,:,:,1] < 1, axis=0).T", 
      "m = amin(res_0)", 
      "M = amax(res_0)", 
      "", 
      "fig = figure()", 
      "ax = fig.add_subplot(111)", 
      "cax = ax.imshow(res_0, extent=[ratio_candidates.min(), ratio_candidates.max(), ", 
      "                               eta_candidates.min(), eta_candidates.max()],", 
      "                origin='lower',", 
      "                aspect=3)", 
      "cax.set_cmap('spectral')", 
      "cbar = fig.colorbar(cax, ticks=[m, 1, M])", 
      "xticks()", 
      "show()"
     ], 
     "language": "python", 
     "outputs": []
    }
   ]
  }
 ]
}